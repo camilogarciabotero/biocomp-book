{
  "cells": [
    {
      "cell_type": "raw",
      "metadata": {},
      "source": [
        "---\n",
        "execute:\n",
        "  cache: true\n",
        "---"
      ],
      "id": "dc561655"
    },
    {
      "cell_type": "markdown",
      "metadata": {},
      "source": [
        "# The command line {#sec-cli}\n",
        "\n",
        "> In this chapter we will explore the fundamentals of the command line interface (aka CLI). And the differences between Operating Systems (OS), Unix, CLI, Bash and Terminal.\n",
        ">\n",
        "> As you will see the CLI is composed of several programs enabling the interaction with the machine, we will discuss some of the basics to navigate your machine, and some advance one that enable complex operations and automating tasks.\n",
        "\n",
        "## Getting started with the command line\n",
        "\n",
        "Before landing into the CLI let us consider the Unix concept. The first question that comes in this section is: what is Unix? It Simply is an operating system (OS). On another terms it is a set of programs that inter-operate with each other to let you communicate with the machine. A very important variant of Unix with a *libre* access is the very known OS Linux. The most important idea behind Unix based systems is the idea that we can use it to access information and hardware programmatically.\n",
        "\n",
        "Almost every computer has a way to interact with or access to the inner elements of the computer. Such interface is called the terminal [Fig. @fig-terminal]\n",
        "\n",
        "![A **terminal** app displaying common features of the command line interface](imgs-cli/terminal.png){#fig-terminal fig-align=\"center\"}\n",
        "\n",
        "## Basic Unix commands\n",
        "\n",
        "Programs, files and directories on every machine display hierarchical paths (routes), starting out from the *root* (`/`). The *root* represents the begining of all the software installed in the machine. And many other files are nested from there forming a tree-like structure for the paths [Fig. @fig-paths]\n",
        "\n",
        "<!-- ![A figure displaying tree-like structure of the programs in a machine with macOS](imgs-cli/){#fig-paths fig-align=\"center\"} -->\n",
        "\n",
        "To know where you are you can see your current location, that is to *print your working directory* using the `pwd` command.\n",
        "\n",
        "::: column-margin\n",
        ":::\n",
        "\n",
        "## Advance Unix commands"
      ],
      "id": "553e4e0a"
    }
  ],
  "metadata": {
    "kernelspec": {
      "name": "python3",
      "language": "python",
      "display_name": "Python 3"
    }
  },
  "nbformat": 4,
  "nbformat_minor": 5
}